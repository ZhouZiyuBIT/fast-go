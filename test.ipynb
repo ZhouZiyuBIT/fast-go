{
 "cells": [
  {
   "cell_type": "code",
   "execution_count": 1,
   "metadata": {},
   "outputs": [],
   "source": [
    "import casadi as ca\n",
    "import numpy as np\n",
    "import matplotlib.pyplot as plt"
   ]
  },
  {
   "cell_type": "code",
   "execution_count": 2,
   "metadata": {},
   "outputs": [],
   "source": [
    "def linear(n, l, p:ca.SX, ls):\n",
    "    y = 0\n",
    "    for i in range(n-1):\n",
    "        y += ca.logic_and(ls[i]<=l, l<ls[i+1])*( p[:,i]+(l-ls[i])/(ls[i+1]-ls[i])*(p[:,i+1]-p[:,i]) )\n",
    "    y += (ls[n-1]<=l)*p[:,n-1]\n",
    "    # y += (ls[n-1]<=l)*( p[:,n-2]+(l-ls[n-2])/(ls[n-1]-ls[n-2])*(p[:,n-1]-p[:,n-2]) )\n",
    "    return y"
   ]
  },
  {
   "cell_type": "code",
   "execution_count": 3,
   "metadata": {},
   "outputs": [],
   "source": [
    "p = ca.SX([[1,3,4,6]])\n",
    "ls = [0,2,3,5]\n",
    "l = ca.SX.sym('l',1)"
   ]
  },
  {
   "cell_type": "code",
   "execution_count": 4,
   "metadata": {},
   "outputs": [
    {
     "data": {
      "text/plain": [
       "SX(((fabs((a_0-b_0))+fabs((a_1-b_1)))+fabs((a_2-b_2))))"
      ]
     },
     "execution_count": 4,
     "metadata": {},
     "output_type": "execute_result"
    }
   ],
   "source": [
    "a = ca.SX.sym('a', 3)\n",
    "b = ca.SX.sym('b', 3)\n",
    "ca.norm_1(a-b)"
   ]
  },
  {
   "cell_type": "code",
   "execution_count": 5,
   "metadata": {},
   "outputs": [],
   "source": [
    "# trajector\n",
    "trjp = np.zeros((3,20))\n",
    "for i in range(20):\n",
    "    trjp[0,i] = np.sin(i/15)*8\n",
    "    trjp[1,i] = np.cos(i/3)*9-9\n",
    "    trjp[2,i] = 0\n",
    "ls = [0]\n",
    "for i in range(19):\n",
    "    ls.append(ls[i]+np.linalg.norm(trjp[:,i+1]-trjp[:,i]))"
   ]
  },
  {
   "cell_type": "code",
   "execution_count": 6,
   "metadata": {},
   "outputs": [
    {
     "data": {
      "text/plain": [
       "<matplotlib.collections.PathCollection at 0x7f772fcecca0>"
      ]
     },
     "execution_count": 6,
     "metadata": {},
     "output_type": "execute_result"
    },
    {
     "data": {
      "image/png": "[encoded data removed]",
      "text/plain": [
       "<Figure size 640x480 with 1 Axes>"
      ]
     },
     "metadata": {},
     "output_type": "display_data"
    }
   ],
   "source": [
    "plt.plot(trjp[0,:], trjp[1,:])\n",
    "sa = linear(20,28,trjp,ls)\n",
    "plt.scatter(sa[0], sa[1])"
   ]
  },
  {
   "cell_type": "code",
   "execution_count": 7,
   "metadata": {},
   "outputs": [],
   "source": [
    "import csv\n",
    "import numpy as np"
   ]
  },
  {
   "cell_type": "code",
   "execution_count": 8,
   "metadata": {},
   "outputs": [
    {
     "name": "stdout",
     "output_type": "stream",
     "text": [
      "{'t': '0', 'p_x': '-4.190308118573105', 'p_y': '-5.795051586447227', 'p_z': '3.4208532743093487', 'q_w': '0.6835871803594799', 'q_x': '0.431898695241304', 'q_y': '-0.20757764804356915', 'q_z': '-0.5505302933806053', 'v_x': '-0.263790315799425', 'v_y': '4.276615305544708', 'v_z': '0.1778808846416545', 'w_x': '0.056991051000408154', 'w_y': '0.03437497316748204', 'w_z': '0.3348816765043365', 'a_lin_x': '12.734134248174167', 'a_lin_y': '3.4595255976159556', 'a_lin_z': '0.6720094604294566', 'a_rot_x': '-0.01478134627641906', 'a_rot_y': '0.02051123059779669', 'a_rot_z': '-6.184151110808269e-05', 'u_1': '4.178948811461556', 'u_2': '4.178999667790071', 'u_3': '4.178999447927334', 'u_4': '4.178856036570749', 'mu_0': '1.0', 'nu_0': '0', 'tau_0': '0', 'mu_1': '1.0', 'nu_1': '0', 'tau_1': '0', 'mu_2': '1.0', 'nu_2': '0', 'tau_2': '0', 'mu_3': '1.0', 'nu_3': '0', 'tau_3': '0'}\n",
      "-4.192195843797128\n"
     ]
    }
   ],
   "source": [
    "with open(\"./rpg_results/result.csv\") as f:\n",
    "    # traj_reader = csv.reader(f, delimiter=',',quotechar='\"', quoting=csv.QUOTE_NONNUMERIC)\n",
    "    traj_reader = csv.DictReader(f)\n",
    "    print(next(traj_reader))\n",
    "    print(float(next(traj_reader)['p_x']))"
   ]
  },
  {
   "cell_type": "code",
   "execution_count": 9,
   "metadata": {},
   "outputs": [
    {
     "name": "stdout",
     "output_type": "stream",
     "text": [
      "0.004021883010864258\n"
     ]
    },
    {
     "data": {
      "text/plain": [
       "301"
      ]
     },
     "execution_count": 9,
     "metadata": {},
     "output_type": "execute_result"
    }
   ],
   "source": [
    "import time\n",
    "traj = np.random.random((500, 3))\n",
    "pos = np.array([0.2, 0.3, 0.2])\n",
    "\n",
    "t1 = time.time()\n",
    "idx = 0\n",
    "lmin = 1000000\n",
    "for i in range(500):\n",
    "    l = np.linalg.norm(pos-traj[i])\n",
    "    if l < lmin:\n",
    "        lmin = l\n",
    "        idx=i\n",
    "\n",
    "t2 = time.time()\n",
    "print(t2-t1)\n",
    "\n",
    "idx"
   ]
  },
  {
   "cell_type": "code",
   "execution_count": 147,
   "metadata": {},
   "outputs": [
    {
     "data": {
      "text/plain": [
       "array([ 0.45399817, -0.07398073,  0.42894072])"
      ]
     },
     "execution_count": 147,
     "metadata": {},
     "output_type": "execute_result"
    }
   ],
   "source": [
    "np.random.random(3)*np.array([2,2,1])-np.array([1, 1, 0.5])"
   ]
  }
 ],
 "metadata": {
  "kernelspec": {
   "display_name": "Python 3",
   "language": "python",
   "name": "python3"
  },
  "language_info": {
   "codemirror_mode": {
    "name": "ipython",
    "version": 3
   },
   "file_extension": ".py",
   "mimetype": "text/x-python",
   "name": "python",
   "nbconvert_exporter": "python",
   "pygments_lexer": "ipython3",
   "version": "3.8.10"
  },
  "orig_nbformat": 4,
  "vscode": {
   "interpreter": {
    "hash": "e7370f93d1d0cde622a1f8e1c04877d8463912d04d973331ad4851f04de6915a"
   }
  }
 },
 "nbformat": 4,
 "nbformat_minor": 2
}
